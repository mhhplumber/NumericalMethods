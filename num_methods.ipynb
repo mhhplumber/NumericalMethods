{
 "cells": [
  {
   "cell_type": "markdown",
   "metadata": {
    "slideshow": {
     "slide_type": "slide"
    }
   },
   "source": [
    "# Numerical Methods of Approximation for Ordinary Differential Equations\n",
    "\n",
    "### Michael Humkey, Paul Taylor, Denis Andrusik, Jian Lan"
   ]
  },
  {
   "cell_type": "markdown",
   "metadata": {
    "slideshow": {
     "slide_type": "slide"
    }
   },
   "source": [
    "## The Problem\n",
    "\n",
    "For many equations, it may be difficult to integrate, some are even impossible to integrate by normal means. So how can we model, if roughly the behavior of the solution? In many applications where solutions are needed, a numerical approximation can be made use of to similar effect as the symbolic solution. Numerical approximations though inexact can be made use of on any ordinary differential equation.\n",
    "\tSome such methods include Euler’s method, Runge-Kutta methods and other Linear Multistep Methods.\n"
   ]
  },
  {
   "cell_type": "markdown",
   "metadata": {
    "slideshow": {
     "slide_type": "slide"
    }
   },
   "source": [
    "## Why should we care?\n",
    "\n",
    "* Without using numerical methods we wouldn’t be able to approximate exact answers for uses in things like graphs and comparative data sets. \n",
    "* Easily used to graphically represent data in computers etc\n",
    "* Engineering is a main source where numeric approximations to solutions are sufficient. \n",
    "* A series expansion from calculus is an alternative method. \n",
    "* When are these used? \n",
    "  * Predictive modeling\n",
    "\n",
    "  * Simulations\n",
    "\n",
    "  * Game engines\n",
    "\n",
    "  \n",
    "  \n",
    "  [modeling]: http://hyperphysics.phy-astr.gsu.edu/hbase/imgmec/tra12.gif \"modeling\"\n",
    "  [simulation]: https://i.ytimg.com/vi/MnHzmcF3-4o/maxresdefault.jpg \"sim\"\n",
    "  [engine]: https://s-media-cache-ak0.pinimg.com/originals/5c/52/87/5c5287be98289fb6cfc4fc1424a3c050.jpg \"engine\"\n"
   ]
  },
  {
   "cell_type": "markdown",
   "metadata": {
    "slideshow": {
     "slide_type": "slide"
    }
   },
   "source": [
    "## Modeling the Problem\n",
    "\n",
    "  * ### Initial Value Problem\n",
    "  An initial value problem is an ordinary differential equation together with some initial value, or initial condition.\n",
    "    Eg.   dy/dx= 10 - x ,   y(0) = 0 \n",
    "  * ### Boundary Value Problem"
   ]
  },
  {
   "cell_type": "markdown",
   "metadata": {
    "slideshow": {
     "slide_type": "slide"
    }
   },
   "source": [
    "## Issues and Limitations\n",
    "* The amount of computation required to find exact solutions is often inefficient and cumbersome relative to use of finding approximate values.\n",
    "* Through finding just the approximate values we are able to better utilize the power of computers to give us real time data.\n",
    "* For non-linear problems (Van der Pol oscillator) there is a lack of an analytic solution, so a computer generated approximation is our only option."
   ]
  },
  {
   "cell_type": "markdown",
   "metadata": {
    "slideshow": {
     "slide_type": "slide"
    }
   },
   "source": [
    "## Solving the Problem\n",
    "* ### Euler's Method\n",
    "* ### Midpoint Method\n",
    "* ### Runge-Kutta Method"
   ]
  },
  {
   "cell_type": "markdown",
   "metadata": {
    "slideshow": {
     "slide_type": "slide"
    }
   },
   "source": [
    "## Demo\n",
    "We'll be using matplotlib to display our results. Let's start by importing pyplot."
   ]
  },
  {
   "cell_type": "code",
   "execution_count": 1,
   "metadata": {
    "collapsed": true,
    "slideshow": {
     "slide_type": "subslide"
    }
   },
   "outputs": [],
   "source": [
    "import matplotlib.pyplot as plt"
   ]
  },
  {
   "cell_type": "markdown",
   "metadata": {
    "slideshow": {
     "slide_type": "notes"
    }
   },
   "source": [
    "Next we'll write functions to handle all of the above methods."
   ]
  },
  {
   "cell_type": "code",
   "execution_count": 2,
   "metadata": {
    "collapsed": true,
    "slideshow": {
     "slide_type": "subslide"
    }
   },
   "outputs": [],
   "source": [
    "# graphwin: the window to plot on\n",
    "# func: the function to model\n",
    "# y: y initial\n",
    "# t t initial\n",
    "# h: step size\n",
    "# n: number of points desired\n",
    "#\n",
    "# Uses Euler's method to approximate a function and plot it\n",
    "def euler(func, y, t, h, n):\n",
    "    y = n*[y]\n",
    "    t = n*[t]\n",
    "    for i in range (0, n-1):\n",
    "        y[i+1]=(y[i] + h * func(t[i], y[i]))\n",
    "        t[i+1]=t[i]+ h\n",
    "    return {'t': t, 'y': y}"
   ]
  },
  {
   "cell_type": "code",
   "execution_count": 3,
   "metadata": {
    "collapsed": true,
    "slideshow": {
     "slide_type": "subslide"
    }
   },
   "outputs": [],
   "source": [
    "# graphwin: the window to plot on\n",
    "# func: the function to model\n",
    "# y: y initial\n",
    "# t t initial\n",
    "# h: step size\n",
    "# n: number of points desired\n",
    "#\n",
    "# Uses the midpoint method to approximate a function and plot it\n",
    "def midmethod(func, y, t, h, n):\n",
    "    y = n*[y]\n",
    "    t = n*[t]\n",
    "    for i in range (0, n-1):\n",
    "        fn = func(t[i], y[i])\n",
    "        y[i+1]=(y[i] + h * float(func(t[i] + h/2, y[i] + (h/2)*fn)))\n",
    "        t[i+1]=t[i]+h\n",
    "    return {'t': t, 'y': y}"
   ]
  },
  {
   "cell_type": "code",
   "execution_count": 4,
   "metadata": {
    "collapsed": true,
    "slideshow": {
     "slide_type": "subslide"
    }
   },
   "outputs": [],
   "source": [
    "# graphwin: the window to plot on\n",
    "# func: the function to model\n",
    "# y: y initial\n",
    "# t t initial\n",
    "# h: step size\n",
    "# n: number of points desired\n",
    "#\n",
    "# Uses the Runge-Kutta method to approximate a function and plot it\n",
    "def rk4(func, y, t, h, n):\n",
    "    y = n*[y]\n",
    "    t = n*[t]\n",
    "    for i in range (0, n-1):\n",
    "        y[i+1]=(y[i] + h * t4(func, t[i], y[i], h))\n",
    "        t[i+1]=t[i]+h\n",
    "    return {'t': t, 'y': y}\n",
    "\n",
    "# Produces the term t4 for the above calculation\n",
    "def t4(func, t, y, h):\n",
    "    k1 = func(t, y)\n",
    "    k2 = func(t + h/2, y + (h/2) * k1)\n",
    "    k3 = func(t + h/2, y + (h/2) * k2)\n",
    "    k4 = func(t + h, y + h * k3)\n",
    "    return 1/6 * (k1 + 2 * (k2 + k3) + k4)\n",
    "        "
   ]
  },
  {
   "cell_type": "markdown",
   "metadata": {
    "slideshow": {
     "slide_type": "notes"
    }
   },
   "source": [
    "Next we need a function to model."
   ]
  },
  {
   "cell_type": "code",
   "execution_count": 5,
   "metadata": {
    "collapsed": true,
    "slideshow": {
     "slide_type": "subslide"
    }
   },
   "outputs": [],
   "source": [
    "# models the function y+t \n",
    "def somefunction(t, y):\n",
    "    return (y + t) "
   ]
  },
  {
   "cell_type": "markdown",
   "metadata": {
    "slideshow": {
     "slide_type": "notes"
    }
   },
   "source": [
    "Next we need to measure the time"
   ]
  },
  {
   "cell_type": "code",
   "execution_count": 6,
   "metadata": {
    "collapsed": true,
    "slideshow": {
     "slide_type": "subslide"
    }
   },
   "outputs": [],
   "source": [
    "from timeit import default_timer as time"
   ]
  },
  {
   "cell_type": "markdown",
   "metadata": {
    "slideshow": {
     "slide_type": "notes"
    }
   },
   "source": [
    "And finally we can produce the graphs and time each function"
   ]
  },
  {
   "cell_type": "code",
   "execution_count": 16,
   "metadata": {
    "slideshow": {
     "slide_type": "subslide"
    }
   },
   "outputs": [
    {
     "name": "stdout",
     "output_type": "stream",
     "text": [
      "0.00021643799846060574 0.00015342600090662017 0.0002078769975923933\n"
     ]
    },
    {
     "data": {
      "image/png": "[encoded data removed]",
      "text/plain": [
       "<matplotlib.figure.Figure at 0x10f955eb8>"
      ]
     },
     "metadata": {},
     "output_type": "display_data"
    }
   ],
   "source": [
    "def callall(func, y=1, t=0, h=0.1, n=500):\n",
    "    \n",
    "    t1 = time()\n",
    "    p1 = euler(func, y, t, h, n)\n",
    "    t1 = time() - t1\n",
    "    \n",
    "    t2 = time()\n",
    "    p2 = midmethod(func, y, t, h, n) \n",
    "    t2 = time() - t2\n",
    "    \n",
    "    t3 = time()\n",
    "    p3 = rk4(func, y, t, h, n)\n",
    "    t3 = time() - t3\n",
    "    \n",
    "    print(t1, t2, t3)\n",
    "    return p1, p2, p3\n",
    "\n",
    "p1, p2, p3 = callall(somefunction, h=0.1, n=50)\n",
    "\n",
    "# plt.figure(0)\n",
    "# plt.title(\"Euler's Method\")\n",
    "plt.plot(p1['t'], p1['y'], 'r')\n",
    "# plt.figure(1)\n",
    "# plt.title(\"Midpoint Method\")\n",
    "plt.plot(p2['t'], p2['y'], 'g')\n",
    "# plt.figure(2)\n",
    "# plt.title(\"Runge-Kutta Method\")\n",
    "plt.plot(p3['t'], p3['y'], 'b')\n",
    "plt.show()"
   ]
  },
  {
   "cell_type": "markdown",
   "metadata": {
    "slideshow": {
     "slide_type": "slide"
    }
   },
   "source": [
    "## Extensions\n",
    "* Finding approximate solutions through application of Taylor Series"
   ]
  }
 ],
 "metadata": {
  "celltoolbar": "Slideshow",
  "kernelspec": {
   "display_name": "Python 3",
   "language": "python",
   "name": "python3"
  },
  "language_info": {
   "codemirror_mode": {
    "name": "ipython",
    "version": 3
   },
   "file_extension": ".py",
   "mimetype": "text/x-python",
   "name": "python",
   "nbconvert_exporter": "python",
   "pygments_lexer": "ipython3",
   "version": "3.6.1"
  }
 },
 "nbformat": 4,
 "nbformat_minor": 2
}

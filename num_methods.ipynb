{
 "cells": [
  {
   "cell_type": "markdown",
   "metadata": {
    "slideshow": {
     "slide_type": "slide"
    }
   },
   "source": [
    "<div style=\"font-family:Trebuchet MS;text-align:center;\">\n",
    "<h1> Numerical Methods of Approximation for Ordinary Differential Equations </h1>\n",
    "\n",
    "<h3 style=\"color:#1a9988;\"> Michael Humkey, Paul Taylor, Denis Andrusik, Jian Lan </h3>\n",
    "\n",
    "</div>\n"
   ]
  },
  {
   "cell_type": "markdown",
   "metadata": {
    "slideshow": {
     "slide_type": "slide"
    }
   },
   "source": [
    "<div style=\"font-family:Trebuchet MS;text-align:center;\">\n",
    "<h2> The Problem </h2>\n",
    "\n",
    "<p style=\"color:#7a88a0;\"> For many equations, it may be difficult to integrate, some are even impossible to integrate by normal means. So how can we model, if roughly the behavior of the solution? In many applications where solutions are needed, a numerical approximation can be made use of to similar effect as the symbolic solution. Numerical approximations though inexact can be made use of on any ordinary differential equation.\n",
    "\tSome such methods include Euler’s method, Runge-Kutta methods and other Linear Multistep Methods.\n",
    "    \n",
    "<strong style=\"font-family:georgia;\"> y’ = y+t, y(0) = 1 </strong></p>\n",
    "\n",
    "</div>\n",
    "\n",
    "\n"
   ]
  },
  {
   "cell_type": "markdown",
   "metadata": {
    "slideshow": {
     "slide_type": "slide"
    }
   },
   "source": [
    "<div style=\"font-family:Trebuchet MS;text-align:center;\">\n",
    "<h2> Why should we care? </h2>\n",
    "\n",
    "</div>\n"
   ]
  },
  {
   "cell_type": "markdown",
   "metadata": {
    "slideshow": {
     "slide_type": "subslide"
    }
   },
   "source": [
    "<div style=\"font-family:Trebuchet MS;text-align:center;\">\n",
    "<h3 style=\"color:#7a88a0;\">Approximate answers for graphs and comparative data sets</h3>\n",
    "<img src=\"https://s-media-cache-ak0.pinimg.com/736x/15/ae/2c/15ae2ce9b77fc7a357706854f15ed928--pie-graph-funny-graphs.jpg\" height=\"512\" width=\"506\">\n",
    "</div>"
   ]
  },
  {
   "cell_type": "markdown",
   "metadata": {
    "slideshow": {
     "slide_type": "subslide"
    }
   },
   "source": [
    "<div style=\"font-family:Trebuchet MS;text-align:center;\">\n",
    "<h3 style=\"color:#7a88a0;\">Easily used to graphically represent data in computers</h3>\n",
    "<img src=\"https://d2r4pw5uddxm3r.cloudfront.net/content/uploads/imported/uploads/2015/04/dhmis4_clever_0.png\" height=\"512\" width=\"750\">\n",
    "</div>"
   ]
  },
  {
   "cell_type": "markdown",
   "metadata": {
    "slideshow": {
     "slide_type": "subslide"
    }
   },
   "source": [
    "<div style=\"font-family:Trebuchet MS;text-align:center;\">\n",
    "<h3 style=\"color:#7a88a0;\">Approximations are sufficient in many engineering applications</h3>\n",
    "<img src=\"https://s-media-cache-ak0.pinimg.com/736x/af/36/76/af367636eccff8cf3cd280fa429f9b12--computer-repair-stupid-funny.jpg\" height=\"512\" width=\"384\">\n",
    "</div>"
   ]
  },
  {
   "cell_type": "markdown",
   "metadata": {
    "slideshow": {
     "slide_type": "subslide"
    }
   },
   "source": [
    "<div style=\"font-family:Trebuchet MS;text-align:center;\">\n",
    "<h3 style=\"color:#7a88a0;\">Series expansions</h3>\n",
    "<img src=\"http://www.thelandofshadow.com/wp-content/uploads/2015/08/91Wsiu9a3JL._SL1500_.jpg\" height=\"512\" width=\"753\">\n",
    "Please explain to me how a book 300 pages long got all this\n",
    "</div>"
   ]
  },
  {
   "cell_type": "markdown",
   "metadata": {
    "slideshow": {
     "slide_type": "slide"
    }
   },
   "source": [
    "<div style=\"font-family:Trebuchet MS;text-align:center;\">\n",
    "<h2> Modeling The Problem </h2>\n",
    "\n",
    "<ul style=\"color:#7a88a0;text-align:left;\"> \n",
    "    <li>\n",
    "        <h3>Initial Value Problems:</h3>\n",
    "        <ul style=\"color:#1a9988;\">\n",
    "            <li>\n",
    "                An initial value problem is an ordinary differential equation together with some initial value, or initial condition.\n",
    "            </li>\n",
    "            <li>\n",
    "                Example: dy/dx= 10 - x ,   y(0) = 0 \n",
    "            </li>\n",
    "        </ul>\n",
    "    </li>\n",
    "    <li>\n",
    "        <h3>Ordinary Differential Equations:</h3>\n",
    "        <ul style=\"color:#1a9988;\">\n",
    "            <li>\n",
    "                ODE is an equation involving an unknown function and  its derivatives\n",
    "            </li>\n",
    "            <li>\n",
    "                Example : \n",
    " dy/dx= x,  a function y(x) whose derivative is x.\n",
    " dy/dx= y,  a function y(x) whose derivative is itself.\n",
    " yy’ + x = 0\n",
    " \n",
    "            </li>\n",
    "        </ul>\n",
    "    </li>\n",
    "</ul>\n",
    "\n",
    "</div>"
   ]
  },
  {
   "cell_type": "markdown",
   "metadata": {
    "slideshow": {
     "slide_type": "slide"
    }
   },
   "source": [
    "<div style=\"font-family:Trebuchet MS;text-align:center;\">\n",
    "<h2> Issues and Limitations</h2>\n",
    "\n",
    "<ul style=\"color:#7a88a0;text-align:left;\"> \n",
    "    <li>\n",
    "        <h3>Error:</h3>\n",
    "        <ul style=\"color:#1a9988;\">\n",
    "            <li>\n",
    "                Euler’s Method is only good for approximating nice solutions that don’t change rapidly.\n",
    "            </li>\n",
    "            <li>\n",
    "                Example:\n",
    "                <img src=\"ex_lim.png\">\n",
    "            </li>\n",
    "            <li>\n",
    "                <img src=\"sol_lim.png\">\n",
    "            </li>\n",
    "        </ul>\n",
    "    </li>\n",
    "</ul>\n",
    "\n",
    "</div>"
   ]
  },
  {
   "cell_type": "markdown",
   "metadata": {
    "slideshow": {
     "slide_type": "slide"
    }
   },
   "source": [
    "<div style=\"font-family:Trebuchet MS;text-align:center;\">\n",
    "<h2> Solving the Problem </h2>\n",
    "\n",
    "<ul style=\"color:#7a88a0;text-align:left;\"> \n",
    "    <li>\n",
    "        <h3>Euler's Method:</h3>\n",
    "        <ul style=\"color:#1a9988;\">\n",
    "            <li>\n",
    "                This method allows us to approximate solutions to differential equations by using the below formula and by incrementing the time we can approximate how the solution is behaving at that time and then are able to predict how it behaves by plotting it. \n",
    "                <img src=\"http://tutorial.math.lamar.edu/Classes/DE/EulersMethod_files/eq0013MP.gif\">\n",
    "\n",
    "            </li>\n",
    "        </ul>\n",
    "    </li>\n",
    "    <li>\n",
    "        <h3>Midpoint Method:</h3>\n",
    "        <ul style=\"color:#1a9988;\">\n",
    "            <li>\n",
    "                This is similar to Euler’s method but improves the Euler method by adding a midpoint in the\n",
    "step which increases the accuracy \n",
    "                <img src=\"http://tutorial.math.lamar.edu/Classes/CalcII/ApproximatingDefIntegrals_files/eq0011MP.gif\">\n",
    "\n",
    "            </li>\n",
    "        </ul>\n",
    "    </li>\n",
    "    <li>\n",
    "        <h3>Runge-Kutta Method:</h3>\n",
    "        <ul style=\"color:#1a9988;\">\n",
    "            <li>\n",
    "                This method is by far the most accurate and is a sort-of blend of the above two, though much more complex. \n",
    "                <img src=\"http://mathworld.wolfram.com/images/equations/Runge-KuttaMethod/Inline9.gif\">\n",
    "                <img src=\"http://mathworld.wolfram.com/images/equations/Runge-KuttaMethod/Inline25.gif\">\n",
    "\n",
    "            </li>\n",
    "        </ul>\n",
    "    </li>\n",
    "</ul>\n",
    "\n",
    "</div>"
   ]
  },
  {
   "cell_type": "markdown",
   "metadata": {
    "slideshow": {
     "slide_type": "slide"
    }
   },
   "source": [
    "<div style=\"font-family:Trebuchet MS;text-align:center;\">\n",
    "<h2> Demo </h2>\n",
    "\n",
    "</div>\n"
   ]
  },
  {
   "cell_type": "markdown",
   "metadata": {
    "slideshow": {
     "slide_type": "notes"
    }
   },
   "source": [
    "We'll be using matplotlib to display our results. Let's start by importing pyplot.\n",
    "We'll also import numpy here for convenient number handling later."
   ]
  },
  {
   "cell_type": "code",
   "execution_count": 1,
   "metadata": {
    "collapsed": true,
    "slideshow": {
     "slide_type": "subslide"
    }
   },
   "outputs": [],
   "source": [
    "import matplotlib.pyplot as plt\n",
    "# patches will just be used for the legend on a graph\n",
    "import matplotlib.patches as mpatches\n",
    "import numpy"
   ]
  },
  {
   "cell_type": "markdown",
   "metadata": {
    "slideshow": {
     "slide_type": "notes"
    }
   },
   "source": [
    "Next we'll write functions to handle all of the above methods."
   ]
  },
  {
   "cell_type": "code",
   "execution_count": 2,
   "metadata": {
    "collapsed": true,
    "slideshow": {
     "slide_type": "subslide"
    }
   },
   "outputs": [],
   "source": [
    "# graphwin: the window to plot on\n",
    "# func: the function to model\n",
    "# y: y initial\n",
    "# t t initial\n",
    "# h: step size\n",
    "# n: number of points desired\n",
    "#\n",
    "# Uses Euler's method to approximate a function and plot it\n",
    "def euler(func, y, t, h, n):\n",
    "    t = numpy.linspace(t, n * h, num=n)\n",
    "    y = len(t)*[y]\n",
    "    for i in range (0, n-1):\n",
    "        y[i+1]=(y[i] + h * func(t[i], y[i]))\n",
    "    return {'t': t, 'y': y}"
   ]
  },
  {
   "cell_type": "code",
   "execution_count": 3,
   "metadata": {
    "collapsed": true,
    "slideshow": {
     "slide_type": "subslide"
    }
   },
   "outputs": [],
   "source": [
    "# graphwin: the window to plot on\n",
    "# func: the function to model\n",
    "# y: y initial\n",
    "# t t initial\n",
    "# h: step size\n",
    "# n: number of points desired\n",
    "#\n",
    "# Uses the midpoint method to approximate a function and plot it\n",
    "def midmethod(func, y, t, h, n):\n",
    "    t = numpy.linspace(t, n * h, num=n)\n",
    "    y = len(t)*[y]\n",
    "    for i in range (0, n-1):\n",
    "        fn = func(t[i], y[i])\n",
    "        y[i+1]=(y[i] + h * float(func(t[i] + h/2, y[i] + (h/2)*fn)))\n",
    "    return {'t': t, 'y': y}"
   ]
  },
  {
   "cell_type": "code",
   "execution_count": 4,
   "metadata": {
    "collapsed": true,
    "slideshow": {
     "slide_type": "subslide"
    }
   },
   "outputs": [],
   "source": [
    "# graphwin: the window to plot on\n",
    "# func: the function to model\n",
    "# y: y initial\n",
    "# t t initial\n",
    "# h: step size\n",
    "# n: number of points desired\n",
    "#\n",
    "# Uses the Runge-Kutta method to approximate a function and plot it\n",
    "def rk4(func, y, t, h, n):\n",
    "    t = numpy.linspace(t, n * h, num=n)\n",
    "    y = len(t)*[y]\n",
    "    for i in range (0, n-1):\n",
    "        y[i+1]=(y[i] + h * t4(func, t[i], y[i], h))\n",
    "    return {'t': t, 'y': y}\n",
    "\n",
    "# Produces the term t4 for the above calculation\n",
    "def t4(func, t, y, h):\n",
    "    k1 = func(t, y)\n",
    "    k2 = func(t + h/2, y + (h/2) * k1)\n",
    "    k3 = func(t + h/2, y + (h/2) * k2)\n",
    "    k4 = func(t + h, y + h * k3)\n",
    "    return 1/6 * (k1 + 2 * (k2 + k3) + k4)\n",
    "        "
   ]
  },
  {
   "cell_type": "markdown",
   "metadata": {
    "slideshow": {
     "slide_type": "notes"
    }
   },
   "source": [
    "Next we need a function to model and its solution."
   ]
  },
  {
   "cell_type": "code",
   "execution_count": 5,
   "metadata": {
    "collapsed": true,
    "slideshow": {
     "slide_type": "subslide"
    }
   },
   "outputs": [],
   "source": [
    "# models the function y+t \n",
    "def somefunction(t, y):\n",
    "    return (y + t) \n",
    "\n",
    "def solution(t, h, n):\n",
    "    t = numpy.linspace(t, n * h, num=n)\n",
    "    y = 2 * numpy.exp(t) - t - 1\n",
    "    return {'t' : t, 'y' : y}"
   ]
  },
  {
   "cell_type": "markdown",
   "metadata": {
    "slideshow": {
     "slide_type": "notes"
    }
   },
   "source": [
    "and a way to measure the time"
   ]
  },
  {
   "cell_type": "code",
   "execution_count": 6,
   "metadata": {
    "collapsed": true,
    "slideshow": {
     "slide_type": "subslide"
    }
   },
   "outputs": [],
   "source": [
    "from timeit import default_timer as time"
   ]
  },
  {
   "cell_type": "markdown",
   "metadata": {
    "slideshow": {
     "slide_type": "notes"
    }
   },
   "source": [
    "finally we can produce the graphs and time each function"
   ]
  },
  {
   "cell_type": "code",
   "execution_count": 7,
   "metadata": {
    "slideshow": {
     "slide_type": "subslide"
    }
   },
   "outputs": [
    {
     "data": {
      "image/png": "[encoded data removed]",
      "text/plain": [
       "<matplotlib.figure.Figure at 0x11731f4a8>"
      ]
     },
     "metadata": {},
     "output_type": "display_data"
    }
   ],
   "source": [
    "def callall(func, y=1, t=0, h=0.1, n=500):\n",
    "    trials = 50\n",
    "    \n",
    "    timer = 0\n",
    "    for i in range (0, trials):\n",
    "        t1 = time()\n",
    "        p1 = euler(func, y, t, h, n)\n",
    "        timer += time() - t1\n",
    "    t1 = timer / float(trials)\n",
    "    \n",
    "    timer = 0\n",
    "    for i in range (0, trials):\n",
    "        t2 = time()\n",
    "        p2 = midmethod(func, y, t, h, n) \n",
    "        timer += time() - t2\n",
    "    t2 = timer / float(trials)\n",
    "    \n",
    "    timer = 0\n",
    "    for i in range (0, trials):\n",
    "        t3 = time()\n",
    "        p3 = rk4(func, y, t, h, n)\n",
    "        timer += time() - t3\n",
    "    t3 = timer / float(trials)\n",
    "    \n",
    "    p4 = solution(t, h, n)\n",
    "    return p1, p2, p3, p4, [t1 * 1000, t2 * 1000, t3 * 1000]\n",
    "\n",
    "p1, p2, p3, p4, t = callall(somefunction, h=0.1, n=50)\n",
    "\n",
    "plt.figure(figsize=(18, 12))\n",
    "plt.plot(p4['t'], p4['y'], 'r.'),\n",
    "plt.plot(p1['t'], p1['y'], 'b.'),\n",
    "plt.plot(p2['t'], p2['y'], 'c.'),\n",
    "plt.plot(p3['t'], p3['y'], 'g.')\n",
    "\n",
    "blue = mpatches.Patch(color='b', label=\"Euler's Method\")\n",
    "cyan = mpatches.Patch(color='c', label=\"Midpoint Method\")\n",
    "green = mpatches.Patch(color='g', label=\"Runge-Kutta Method\")\n",
    "red = mpatches.Patch(color='r', label=\"Exact Solution\")\n",
    "plt.legend(handles=[blue, cyan, green, red])\n",
    "\n",
    "plt.show()"
   ]
  },
  {
   "cell_type": "markdown",
   "metadata": {
    "slideshow": {
     "slide_type": "notes"
    }
   },
   "source": [
    "Now let's examine our error versus compute time."
   ]
  },
  {
   "cell_type": "code",
   "execution_count": 8,
   "metadata": {
    "slideshow": {
     "slide_type": "subslide"
    }
   },
   "outputs": [
    {
     "data": {
      "image/png": "[encoded data removed]",
      "text/plain": [
       "<matplotlib.figure.Figure at 0x117287c18>"
      ]
     },
     "metadata": {},
     "output_type": "display_data"
    }
   ],
   "source": [
    "def error(expected, actual):\n",
    "    return abs((sum(expected)/float(len(expected))) - (sum(actual)/float(len(actual))))\n",
    "\n",
    "models = (\"Euler's Method\", \"Midpoint Method\", \"Runge-Kutta Method\")\n",
    "y_pos = numpy.arange(len(models))\n",
    "err = [error(p4['y'], p1['y']), error(p4['y'], p2['y']), error(p4['y'], p3['y'])]\n",
    "plt.figure(figsize=(20, 12))\n",
    "\n",
    "plt.subplot(2, 3, 1)\n",
    "plt.bar(y_pos, err, align='center', alpha=0.5, color='r')\n",
    "plt.xticks(y_pos, models)\n",
    "plt.ylabel('Average Error')\n",
    "plt.title('Error')\n",
    "\n",
    "plt.subplot(2, 3, 2)\n",
    "plt.bar(y_pos, t, align='center', alpha=0.5)\n",
    "plt.xticks(y_pos, models)\n",
    "plt.ylabel('Time(ms)')\n",
    "plt.title('Compute Time')\n",
    "\n",
    "plt.tight_layout()\n",
    "\n",
    "plt.show()"
   ]
  },
  {
   "cell_type": "markdown",
   "metadata": {
    "slideshow": {
     "slide_type": "slide"
    }
   },
   "source": [
    "<div style=\"font-family:Trebuchet MS;text-align:center;\">\n",
    "<h2> Extensions </h2>\n",
    "\n",
    "<ul style=\"color:#7a88a0;text-align:left;\"> \n",
    "    <li>\n",
    "        <h3>Finding approximate solutions through application of Taylor Series</h3> \n",
    "    </li>\n",
    "    <li>\n",
    "        <h3>Predictive Modeling</h3>\n",
    "    </li>\n",
    "    <li>\n",
    "        <h3>Simulations</h3>\n",
    "    </li>\n",
    "    <li>\n",
    "        <h3>Game Engines</h3>\n",
    "    </li>\n",
    "</ul>\n",
    "\n",
    "</div>"
   ]
  }
 ],
 "metadata": {
  "celltoolbar": "Slideshow",
  "kernelspec": {
   "display_name": "Python 3",
   "language": "python",
   "name": "python3"
  },
  "language_info": {
   "codemirror_mode": {
    "name": "ipython",
    "version": 3
   },
   "file_extension": ".py",
   "mimetype": "text/x-python",
   "name": "python",
   "nbconvert_exporter": "python",
   "pygments_lexer": "ipython3",
   "version": "3.6.1"
  }
 },
 "nbformat": 4,
 "nbformat_minor": 2
}

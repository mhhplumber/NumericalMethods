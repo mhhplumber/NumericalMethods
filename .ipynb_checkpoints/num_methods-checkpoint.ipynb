{
 "cells": [
  {
   "cell_type": "markdown",
   "metadata": {},
   "source": [
    "# Numerical Methods of Approximation for Ordinary Differential Equations\n",
    "\n",
    "### Michael Humkey, Paul Taylor, Denis Andrusik, Jian Lan"
   ]
  },
  {
   "cell_type": "markdown",
   "metadata": {},
   "source": [
    "## The Problem\n",
    "\n",
    "For many equations, it may be difficult to integrate, some are even impossible to integrate by normal means. So how can we model, if roughly the behavior of the solution? In many applications where solutions are needed, a numerical approximation can be made use of to similar effect as the symbolic solution. Numerical approximations though inexact can be made use of on any ordinary differential equation.\n",
    "\tSome such methods include Euler’s method, Runge-Kutta methods and other Linear Multistep Methods.\n"
   ]
  },
  {
   "cell_type": "markdown",
   "metadata": {},
   "source": [
    "## Why should we care?\n",
    "\n",
    "* Without using numerical methods we wouldn’t be able to approximate exact answers for uses in things like graphs and comparative data sets. \n",
    "* Easily used to graphically represent data in computers etc\n",
    "* Engineering is a main source where numeric approximations to solutions are sufficient. \n",
    "* A series expansion from calculus is an alternative method. \n",
    "* When are these used? \n",
    "  * Predictive modeling\n",
    "  ![trajectory modeling][modeling]\n",
    "  * Simulations\n",
    "  ![windtunnel simulation][simulation]\n",
    "  * Game engines\n",
    "  ![mariokart][engine]\n",
    "  \n",
    "  \n",
    "  [modeling]: http://hyperphysics.phy-astr.gsu.edu/hbase/imgmec/tra12.gif \"modeling\"\n",
    "  [simulation]: https://i.ytimg.com/vi/MnHzmcF3-4o/maxresdefault.jpg \"sim\"\n",
    "  [engine]: https://s-media-cache-ak0.pinimg.com/originals/5c/52/87/5c5287be98289fb6cfc4fc1424a3c050.jpg \"engine\"\n"
   ]
  },
  {
   "cell_type": "markdown",
   "metadata": {},
   "source": [
    "## Modeling the Problem\n",
    "\n",
    "  * ### Initial Value Problem\n",
    "  An initial value problem is an ordinary differential equation together with some initial value, or initial condition.\n",
    "    Eg.   dy/dx= 10 - x ,   y(0) = 0 \n",
    "  * ### Boundary Value Problem"
   ]
  },
  {
   "cell_type": "markdown",
   "metadata": {},
   "source": [
    "## Issues and Limitations\n",
    "* The amount of computation required to find exact solutions is often inefficient and cumbersome relative to use of finding approximate values.\n",
    "* Through finding just the approximate values we are able to better utilize the power of computers to give us real time data.\n",
    "* For non-linear problems (Van der Pol oscillator) there is a lack of an analytic solution, so a computer generated approximation is our only option."
   ]
  },
  {
   "cell_type": "markdown",
   "metadata": {},
   "source": [
    "## Solving the Problem\n",
    "* ### Euler's Method\n",
    "* ### Midpoint Method\n",
    "* ### Runge-Kutta Method"
   ]
  },
  {
   "cell_type": "markdown",
   "metadata": {},
   "source": [
    "## Demo\n",
    "We'll be using matplotlib to display our results. Let's start by importing pyplot."
   ]
  },
  {
   "cell_type": "code",
   "execution_count": 3,
   "metadata": {
    "collapsed": true
   },
   "outputs": [],
   "source": [
    "import matplotlib.pyplot as pyplot"
   ]
  },
  {
   "cell_type": "markdown",
   "metadata": {},
   "source": [
    "Next we'll write functions to handle all of the above methods."
   ]
  },
  {
   "cell_type": "code",
   "execution_count": 9,
   "metadata": {},
   "outputs": [],
   "source": [
    "# graphwin: the window to plot on\n",
    "# func: the function to model\n",
    "# y: y initial\n",
    "# t t initial\n",
    "# h: step size\n",
    "# n: number of points desired\n",
    "#\n",
    "# Uses Euler's method to approximate a function and plot it\n",
    "def euler(func, graphwin=pyplot, y=0, t=0, h=0.1, n=500):\n",
    "\tif (res):\n",
    "\t\tgraphwin.plot(t, y)\n",
    "\t\teuler(func, y=(y + h * func(t, y)), t=(t + h), \n",
    "              h=h, n=(n-1))"
   ]
  },
  {
   "cell_type": "code",
   "execution_count": null,
   "metadata": {
    "collapsed": true
   },
   "outputs": [],
   "source": [
    "# graphwin: the window to plot on\n",
    "# func: the function to model\n",
    "# y: y initial\n",
    "# t t initial\n",
    "# h: step size\n",
    "# n: number of points desired\n",
    "#\n",
    "# Uses the midpoint method to approximate a function and plot it\n",
    "# def midmethod(func, graphwin=pyplot, y=0, t=0, h=0.1, n=500):"
   ]
  }
 ],
 "metadata": {
  "kernelspec": {
   "display_name": "Python 3",
   "language": "python",
   "name": "python3"
  },
  "language_info": {
   "codemirror_mode": {
    "name": "ipython",
    "version": 3
   },
   "file_extension": ".py",
   "mimetype": "text/x-python",
   "name": "python",
   "nbconvert_exporter": "python",
   "pygments_lexer": "ipython3",
   "version": "3.6.1"
  }
 },
 "nbformat": 4,
 "nbformat_minor": 2
}
